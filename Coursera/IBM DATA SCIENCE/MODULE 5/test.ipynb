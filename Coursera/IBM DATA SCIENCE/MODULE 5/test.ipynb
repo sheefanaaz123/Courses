{
 "cells": [
  {
   "cell_type": "markdown",
   "id": "79c84ea7",
   "metadata": {},
   "source": [
    "<h1>Extracting and Visualizing Stock Data</h1>"
   ]
  },
  {
   "cell_type": "code",
   "execution_count": 1,
   "id": "7c3bbf1e-a6cc-4750-8cb4-c78720ddea32",
   "metadata": {},
   "outputs": [],
   "source": [
    "#!pip install yfinance\n",
    "#!pip install pandas\n",
    "#!pip install requests\n",
    "#!pip install bs4\n",
    "#!pip install plotly"
   ]
  },
  {
   "cell_type": "code",
   "execution_count": 2,
   "id": "8eea9995-491c-4dfe-b996-05dde0ed7b7e",
   "metadata": {},
   "outputs": [],
   "source": [
    "import pandas as pd\n",
    "import yfinance as yf\n",
    "import numpy as np\n",
    "import requests\n",
    "from bs4 import BeautifulSoup\n",
    "import matplotlib.pyplot as plt\n",
    "%matplotlib inline"
   ]
  },
  {
   "cell_type": "markdown",
   "id": "3f2210ed-0f57-41d6-8a6c-c73ec1f8fa58",
   "metadata": {},
   "source": [
    "## Question 1: Use yfinance to Extract Tesla Stock Data"
   ]
  },
  {
   "cell_type": "code",
   "execution_count": 3,
   "id": "8cf0376c-2336-42bd-9815-ca9e35c8824e",
   "metadata": {},
   "outputs": [],
   "source": [
    "tesla = yf.Ticker(\"TSLA\")"
   ]
  },
  {
   "cell_type": "code",
   "execution_count": 4,
   "id": "404dba90-25f7-4153-afa9-e9877c7dcc8d",
   "metadata": {},
   "outputs": [],
   "source": [
    "tesla_data = tesla.history(period=\"max\")"
   ]
  },
  {
   "cell_type": "code",
   "execution_count": 5,
   "id": "c52cb842-8d04-40c7-a252-df062adf2d9b",
   "metadata": {},
   "outputs": [
    {
     "data": {
      "text/html": [
       "<div>\n",
       "<style scoped>\n",
       "    .dataframe tbody tr th:only-of-type {\n",
       "        vertical-align: middle;\n",
       "    }\n",
       "\n",
       "    .dataframe tbody tr th {\n",
       "        vertical-align: top;\n",
       "    }\n",
       "\n",
       "    .dataframe thead th {\n",
       "        text-align: right;\n",
       "    }\n",
       "</style>\n",
       "<table border=\"1\" class=\"dataframe\">\n",
       "  <thead>\n",
       "    <tr style=\"text-align: right;\">\n",
       "      <th></th>\n",
       "      <th>Date</th>\n",
       "      <th>Open</th>\n",
       "      <th>High</th>\n",
       "      <th>Low</th>\n",
       "      <th>Close</th>\n",
       "      <th>Volume</th>\n",
       "      <th>Dividends</th>\n",
       "      <th>Stock Splits</th>\n",
       "    </tr>\n",
       "  </thead>\n",
       "  <tbody>\n",
       "    <tr>\n",
       "      <th>0</th>\n",
       "      <td>2010-06-29</td>\n",
       "      <td>3.800</td>\n",
       "      <td>5.000</td>\n",
       "      <td>3.508</td>\n",
       "      <td>4.778</td>\n",
       "      <td>93831500</td>\n",
       "      <td>0</td>\n",
       "      <td>0.0</td>\n",
       "    </tr>\n",
       "    <tr>\n",
       "      <th>1</th>\n",
       "      <td>2010-06-30</td>\n",
       "      <td>5.158</td>\n",
       "      <td>6.084</td>\n",
       "      <td>4.660</td>\n",
       "      <td>4.766</td>\n",
       "      <td>85935500</td>\n",
       "      <td>0</td>\n",
       "      <td>0.0</td>\n",
       "    </tr>\n",
       "    <tr>\n",
       "      <th>2</th>\n",
       "      <td>2010-07-01</td>\n",
       "      <td>5.000</td>\n",
       "      <td>5.184</td>\n",
       "      <td>4.054</td>\n",
       "      <td>4.392</td>\n",
       "      <td>41094000</td>\n",
       "      <td>0</td>\n",
       "      <td>0.0</td>\n",
       "    </tr>\n",
       "    <tr>\n",
       "      <th>3</th>\n",
       "      <td>2010-07-02</td>\n",
       "      <td>4.600</td>\n",
       "      <td>4.620</td>\n",
       "      <td>3.742</td>\n",
       "      <td>3.840</td>\n",
       "      <td>25699000</td>\n",
       "      <td>0</td>\n",
       "      <td>0.0</td>\n",
       "    </tr>\n",
       "    <tr>\n",
       "      <th>4</th>\n",
       "      <td>2010-07-06</td>\n",
       "      <td>4.000</td>\n",
       "      <td>4.000</td>\n",
       "      <td>3.166</td>\n",
       "      <td>3.222</td>\n",
       "      <td>34334500</td>\n",
       "      <td>0</td>\n",
       "      <td>0.0</td>\n",
       "    </tr>\n",
       "  </tbody>\n",
       "</table>\n",
       "</div>"
      ],
      "text/plain": [
       "        Date   Open   High    Low  Close    Volume  Dividends  Stock Splits\n",
       "0 2010-06-29  3.800  5.000  3.508  4.778  93831500          0           0.0\n",
       "1 2010-06-30  5.158  6.084  4.660  4.766  85935500          0           0.0\n",
       "2 2010-07-01  5.000  5.184  4.054  4.392  41094000          0           0.0\n",
       "3 2010-07-02  4.600  4.620  3.742  3.840  25699000          0           0.0\n",
       "4 2010-07-06  4.000  4.000  3.166  3.222  34334500          0           0.0"
      ]
     },
     "execution_count": 5,
     "metadata": {},
     "output_type": "execute_result"
    }
   ],
   "source": [
    "tesla_data.reset_index(inplace=True)\n",
    "tesla_data.head()"
   ]
  },
  {
   "cell_type": "markdown",
   "id": "896949ee-681b-4247-9669-2228f2ca7de1",
   "metadata": {},
   "source": [
    "## Question 2: Use Webscraping to Extract Tesla Revenue Data"
   ]
  },
  {
   "cell_type": "code",
   "execution_count": 6,
   "id": "eb2b1c0d-598e-4fd1-bb4e-2cbc12950b6b",
   "metadata": {},
   "outputs": [],
   "source": [
    "url = \"https://www.macrotrends.net/stocks/charts/TSLA/tesla/revenue\""
   ]
  },
  {
   "cell_type": "code",
   "execution_count": 7,
   "id": "5f94373d-0905-41b0-a505-d59fa2e2b248",
   "metadata": {},
   "outputs": [],
   "source": [
    "html_data = requests.get(url).text"
   ]
  },
  {
   "cell_type": "code",
   "execution_count": 8,
   "id": "9ab7cc56-ab61-4d47-9e5e-3467d8a443d3",
   "metadata": {},
   "outputs": [
    {
     "data": {
      "text/plain": [
       "[<title>Tesla Revenue 2010-2022 | TSLA | MacroTrends</title>]"
      ]
     },
     "execution_count": 8,
     "metadata": {},
     "output_type": "execute_result"
    }
   ],
   "source": [
    "soup = BeautifulSoup(html_data, \"html.parser\")\n",
    "soup.find_all('title')"
   ]
  },
  {
   "cell_type": "code",
   "execution_count": 9,
   "id": "0ec970c3-1806-48fc-90fa-e62d4150cd11",
   "metadata": {},
   "outputs": [],
   "source": [
    "tesla_revenue = pd.DataFrame(columns = ['Date', 'Revenue'])\n",
    "\n",
    "for row in soup.find_all(\"tbody\")[1].find_all(\"tr\"):\n",
    "    col = row.find_all(\"td\")\n",
    "    date = col[0].text\n",
    "    revenue = col[1].text.replace(\"$\", \"\").replace(\",\", \"\")\n",
    "    \n",
    "    tesla_revenue = tesla_revenue.append({\"Date\": date, \"Revenue\": revenue}, ignore_index = True)"
   ]
  },
  {
   "cell_type": "code",
   "execution_count": 10,
   "id": "246f5a01-9d85-4d83-9a00-64a865614c84",
   "metadata": {},
   "outputs": [],
   "source": [
    "tesla_revenue.dropna(inplace=True)\n",
    "tesla_revenue = tesla_revenue[tesla_revenue['Revenue'] != \"\"]"
   ]
  },
  {
   "cell_type": "code",
   "execution_count": 11,
   "id": "82216301-e0ba-42de-93c2-ee4cbe72e101",
   "metadata": {},
   "outputs": [
    {
     "data": {
      "text/html": [
       "<div>\n",
       "<style scoped>\n",
       "    .dataframe tbody tr th:only-of-type {\n",
       "        vertical-align: middle;\n",
       "    }\n",
       "\n",
       "    .dataframe tbody tr th {\n",
       "        vertical-align: top;\n",
       "    }\n",
       "\n",
       "    .dataframe thead th {\n",
       "        text-align: right;\n",
       "    }\n",
       "</style>\n",
       "<table border=\"1\" class=\"dataframe\">\n",
       "  <thead>\n",
       "    <tr style=\"text-align: right;\">\n",
       "      <th></th>\n",
       "      <th>Date</th>\n",
       "      <th>Revenue</th>\n",
       "    </tr>\n",
       "  </thead>\n",
       "  <tbody>\n",
       "    <tr>\n",
       "      <th>46</th>\n",
       "      <td>2010-09-30</td>\n",
       "      <td>31</td>\n",
       "    </tr>\n",
       "    <tr>\n",
       "      <th>47</th>\n",
       "      <td>2010-06-30</td>\n",
       "      <td>28</td>\n",
       "    </tr>\n",
       "    <tr>\n",
       "      <th>48</th>\n",
       "      <td>2010-03-31</td>\n",
       "      <td>21</td>\n",
       "    </tr>\n",
       "    <tr>\n",
       "      <th>50</th>\n",
       "      <td>2009-09-30</td>\n",
       "      <td>46</td>\n",
       "    </tr>\n",
       "    <tr>\n",
       "      <th>51</th>\n",
       "      <td>2009-06-30</td>\n",
       "      <td>27</td>\n",
       "    </tr>\n",
       "  </tbody>\n",
       "</table>\n",
       "</div>"
      ],
      "text/plain": [
       "          Date Revenue\n",
       "46  2010-09-30      31\n",
       "47  2010-06-30      28\n",
       "48  2010-03-31      21\n",
       "50  2009-09-30      46\n",
       "51  2009-06-30      27"
      ]
     },
     "execution_count": 11,
     "metadata": {},
     "output_type": "execute_result"
    }
   ],
   "source": [
    "tesla_revenue.tail()"
   ]
  },
  {
   "cell_type": "markdown",
   "id": "1210b685-1ee7-4649-aee2-89163a505752",
   "metadata": {},
   "source": [
    "## Question 3: Use yfinance to Extract GME Stock Data"
   ]
  },
  {
   "cell_type": "code",
   "execution_count": 12,
   "id": "07dd7546-02e5-44aa-ba21-5a2771f701be",
   "metadata": {},
   "outputs": [],
   "source": [
    "gamestop = yf.Ticker(\"GME\")"
   ]
  },
  {
   "cell_type": "code",
   "execution_count": 13,
   "id": "afdffe63-f990-4c84-acc6-5cf08cb7f7e7",
   "metadata": {},
   "outputs": [],
   "source": [
    "gamestop_data = gamestop.history(period=\"max\")"
   ]
  },
  {
   "cell_type": "code",
   "execution_count": 14,
   "id": "b34c2bdf-f4d7-4e20-9529-e13520fb88b8",
   "metadata": {},
   "outputs": [
    {
     "data": {
      "text/html": [
       "<div>\n",
       "<style scoped>\n",
       "    .dataframe tbody tr th:only-of-type {\n",
       "        vertical-align: middle;\n",
       "    }\n",
       "\n",
       "    .dataframe tbody tr th {\n",
       "        vertical-align: top;\n",
       "    }\n",
       "\n",
       "    .dataframe thead th {\n",
       "        text-align: right;\n",
       "    }\n",
       "</style>\n",
       "<table border=\"1\" class=\"dataframe\">\n",
       "  <thead>\n",
       "    <tr style=\"text-align: right;\">\n",
       "      <th></th>\n",
       "      <th>Date</th>\n",
       "      <th>Open</th>\n",
       "      <th>High</th>\n",
       "      <th>Low</th>\n",
       "      <th>Close</th>\n",
       "      <th>Volume</th>\n",
       "      <th>Dividends</th>\n",
       "      <th>Stock Splits</th>\n",
       "    </tr>\n",
       "  </thead>\n",
       "  <tbody>\n",
       "    <tr>\n",
       "      <th>0</th>\n",
       "      <td>2002-02-13</td>\n",
       "      <td>6.480514</td>\n",
       "      <td>6.773400</td>\n",
       "      <td>6.413183</td>\n",
       "      <td>6.766666</td>\n",
       "      <td>19054000</td>\n",
       "      <td>0.0</td>\n",
       "      <td>0.0</td>\n",
       "    </tr>\n",
       "    <tr>\n",
       "      <th>1</th>\n",
       "      <td>2002-02-14</td>\n",
       "      <td>6.850829</td>\n",
       "      <td>6.864295</td>\n",
       "      <td>6.682504</td>\n",
       "      <td>6.733002</td>\n",
       "      <td>2755400</td>\n",
       "      <td>0.0</td>\n",
       "      <td>0.0</td>\n",
       "    </tr>\n",
       "    <tr>\n",
       "      <th>2</th>\n",
       "      <td>2002-02-15</td>\n",
       "      <td>6.733001</td>\n",
       "      <td>6.749833</td>\n",
       "      <td>6.632006</td>\n",
       "      <td>6.699336</td>\n",
       "      <td>2097400</td>\n",
       "      <td>0.0</td>\n",
       "      <td>0.0</td>\n",
       "    </tr>\n",
       "    <tr>\n",
       "      <th>3</th>\n",
       "      <td>2002-02-19</td>\n",
       "      <td>6.665671</td>\n",
       "      <td>6.665671</td>\n",
       "      <td>6.312189</td>\n",
       "      <td>6.430017</td>\n",
       "      <td>1852600</td>\n",
       "      <td>0.0</td>\n",
       "      <td>0.0</td>\n",
       "    </tr>\n",
       "    <tr>\n",
       "      <th>4</th>\n",
       "      <td>2002-02-20</td>\n",
       "      <td>6.463681</td>\n",
       "      <td>6.648838</td>\n",
       "      <td>6.413183</td>\n",
       "      <td>6.648838</td>\n",
       "      <td>1723200</td>\n",
       "      <td>0.0</td>\n",
       "      <td>0.0</td>\n",
       "    </tr>\n",
       "  </tbody>\n",
       "</table>\n",
       "</div>"
      ],
      "text/plain": [
       "        Date      Open      High       Low     Close    Volume  Dividends  \\\n",
       "0 2002-02-13  6.480514  6.773400  6.413183  6.766666  19054000        0.0   \n",
       "1 2002-02-14  6.850829  6.864295  6.682504  6.733002   2755400        0.0   \n",
       "2 2002-02-15  6.733001  6.749833  6.632006  6.699336   2097400        0.0   \n",
       "3 2002-02-19  6.665671  6.665671  6.312189  6.430017   1852600        0.0   \n",
       "4 2002-02-20  6.463681  6.648838  6.413183  6.648838   1723200        0.0   \n",
       "\n",
       "   Stock Splits  \n",
       "0           0.0  \n",
       "1           0.0  \n",
       "2           0.0  \n",
       "3           0.0  \n",
       "4           0.0  "
      ]
     },
     "execution_count": 14,
     "metadata": {},
     "output_type": "execute_result"
    }
   ],
   "source": [
    "gamestop_data.reset_index(inplace=True)\n",
    "gamestop_data.head()"
   ]
  },
  {
   "cell_type": "markdown",
   "id": "18218de1-e85e-4a7f-8d2c-6b71f570f535",
   "metadata": {},
   "source": [
    "## Question 4: Use Webscraping to Extract GME Revenue Data"
   ]
  },
  {
   "cell_type": "code",
   "execution_count": 15,
   "id": "81cc553e-0923-4aed-8443-2e2f1c3fa0f4",
   "metadata": {},
   "outputs": [],
   "source": [
    "url1 = \"https://www.macrotrends.net/stocks/charts/GME/gamestop/revenue\""
   ]
  },
  {
   "cell_type": "code",
   "execution_count": 16,
   "id": "fb0d6e1a-bf8d-4df0-ac73-95e60a5f3f6e",
   "metadata": {},
   "outputs": [],
   "source": [
    "html_data = requests.get(url1).text"
   ]
  },
  {
   "cell_type": "code",
   "execution_count": 17,
   "id": "e5c0f744-6cd4-4a3e-be4d-a118001b6876",
   "metadata": {},
   "outputs": [
    {
     "data": {
      "text/plain": [
       "[<title>GameStop Revenue 2010-2022 | GME | MacroTrends</title>]"
      ]
     },
     "execution_count": 17,
     "metadata": {},
     "output_type": "execute_result"
    }
   ],
   "source": [
    "soup = BeautifulSoup(html_data, \"html.parser\")\n",
    "soup.find_all('title')"
   ]
  },
  {
   "cell_type": "code",
   "execution_count": 18,
   "id": "2be90851-09f8-4a5e-ad0f-deddaf7f4334",
   "metadata": {},
   "outputs": [],
   "source": [
    "gme_revenue = pd.DataFrame(columns=['Date', 'Revenue'])\n",
    "\n",
    "for table in soup.find_all('table'):\n",
    "\n",
    "    if ('GameStop Quarterly Revenue' in table.find('th').text):\n",
    "        rows = table.find_all('tr')\n",
    "        \n",
    "        for row in rows:\n",
    "            col = row.find_all('td')\n",
    "            \n",
    "            if col != []:\n",
    "                date = col[0].text\n",
    "                revenue = col[1].text.replace(',','').replace('$','')\n",
    "\n",
    "                gme_revenue = gme_revenue.append({\"Date\":date, \"Revenue\":revenue}, ignore_index=True)"
   ]
  },
  {
   "cell_type": "code",
   "execution_count": 19,
   "id": "0fa856d4-6b0f-459b-bb85-fcc2648a26b5",
   "metadata": {},
   "outputs": [
    {
     "data": {
      "text/html": [
       "<div>\n",
       "<style scoped>\n",
       "    .dataframe tbody tr th:only-of-type {\n",
       "        vertical-align: middle;\n",
       "    }\n",
       "\n",
       "    .dataframe tbody tr th {\n",
       "        vertical-align: top;\n",
       "    }\n",
       "\n",
       "    .dataframe thead th {\n",
       "        text-align: right;\n",
       "    }\n",
       "</style>\n",
       "<table border=\"1\" class=\"dataframe\">\n",
       "  <thead>\n",
       "    <tr style=\"text-align: right;\">\n",
       "      <th></th>\n",
       "      <th>Date</th>\n",
       "      <th>Revenue</th>\n",
       "    </tr>\n",
       "  </thead>\n",
       "  <tbody>\n",
       "    <tr>\n",
       "      <th>49</th>\n",
       "      <td>2010-01-31</td>\n",
       "      <td>3524</td>\n",
       "    </tr>\n",
       "    <tr>\n",
       "      <th>50</th>\n",
       "      <td>2009-10-31</td>\n",
       "      <td>1835</td>\n",
       "    </tr>\n",
       "    <tr>\n",
       "      <th>51</th>\n",
       "      <td>2009-07-31</td>\n",
       "      <td>1739</td>\n",
       "    </tr>\n",
       "    <tr>\n",
       "      <th>52</th>\n",
       "      <td>2009-04-30</td>\n",
       "      <td>1981</td>\n",
       "    </tr>\n",
       "    <tr>\n",
       "      <th>53</th>\n",
       "      <td>2009-01-31</td>\n",
       "      <td>3492</td>\n",
       "    </tr>\n",
       "  </tbody>\n",
       "</table>\n",
       "</div>"
      ],
      "text/plain": [
       "          Date Revenue\n",
       "49  2010-01-31    3524\n",
       "50  2009-10-31    1835\n",
       "51  2009-07-31    1739\n",
       "52  2009-04-30    1981\n",
       "53  2009-01-31    3492"
      ]
     },
     "execution_count": 19,
     "metadata": {},
     "output_type": "execute_result"
    }
   ],
   "source": [
    "gme_revenue.tail()"
   ]
  }
 ],
 "metadata": {
  "kernelspec": {
   "display_name": "Python 3 (ipykernel)",
   "language": "python",
   "name": "python3"
  },
  "language_info": {
   "codemirror_mode": {
    "name": "ipython",
    "version": 3
   },
   "file_extension": ".py",
   "mimetype": "text/x-python",
   "name": "python",
   "nbconvert_exporter": "python",
   "pygments_lexer": "ipython3",
   "version": "3.10.9"
  }
 },
 "nbformat": 4,
 "nbformat_minor": 5
}
